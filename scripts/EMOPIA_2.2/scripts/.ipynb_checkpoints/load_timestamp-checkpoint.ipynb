{
 "cells": [
  {
   "cell_type": "code",
   "execution_count": 1,
   "metadata": {},
   "outputs": [],
   "source": [
    "import json"
   ]
  },
  {
   "cell_type": "code",
   "execution_count": 2,
   "metadata": {},
   "outputs": [],
   "source": [
    "with open('../timestamps.json', 'r') as f:\n",
    "    stamps = json.load(f)"
   ]
  },
  {
   "cell_type": "markdown",
   "metadata": {},
   "source": [
    "* The key of the dict is the YouTube ID of the song/playlist.\n",
    "* For each ID, the value is the timestamps for every clip.\n",
    "* The format of the clip time stamp is [start time, end time, 4Q label(1,2,3,4)]"
   ]
  },
  {
   "cell_type": "code",
   "execution_count": 6,
   "metadata": {},
   "outputs": [
    {
     "data": {
      "text/plain": [
       "[['0:00:02', '0:00:17', '1'],\n",
       " ['0:00:17', '0:00:47', '1'],\n",
       " ['0:00:47', '0:01:17', '1'],\n",
       " ['0:02:48', '0:03:35', '1']]"
      ]
     },
     "execution_count": 6,
     "metadata": {},
     "output_type": "execute_result"
    }
   ],
   "source": [
    "stamps['Y5JcZQ0xg4Y']"
   ]
  },
  {
   "cell_type": "markdown",
   "metadata": {},
   "source": [
    "Take the above as example, the YouTube ID is `Y5JcZQ0xg4Y`, we take 4 clips from it.\n",
    "The first clip starts from 2 second and ends at 17 seconds. The emotion label of this clip is Q1 (high arousal, positive valence)."
   ]
  },
  {
   "cell_type": "code",
   "execution_count": null,
   "metadata": {},
   "outputs": [],
   "source": []
  }
 ],
 "metadata": {
  "kernelspec": {
   "display_name": "Python 3",
   "language": "python",
   "name": "python3"
  },
  "language_info": {
   "codemirror_mode": {
    "name": "ipython",
    "version": 3
   },
   "file_extension": ".py",
   "mimetype": "text/x-python",
   "name": "python",
   "nbconvert_exporter": "python",
   "pygments_lexer": "ipython3",
   "version": "3.8.5"
  }
 },
 "nbformat": 4,
 "nbformat_minor": 4
}
